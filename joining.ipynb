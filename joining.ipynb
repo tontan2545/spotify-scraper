{
 "cells": [
  {
   "cell_type": "code",
   "execution_count": 26,
   "metadata": {
    "collapsed": true
   },
   "outputs": [],
   "source": [
    "import os\n",
    "import pandas as pd"
   ]
  },
  {
   "cell_type": "code",
   "execution_count": 27,
   "outputs": [],
   "source": [
    "track_metadata = pd.read_csv(\"data/track_metadata.csv\")\n",
    "rating_metadata = pd.read_csv(\"data/rating_metadata.csv\")"
   ],
   "metadata": {
    "collapsed": false
   }
  },
  {
   "cell_type": "code",
   "execution_count": 28,
   "outputs": [
    {
     "data": {
      "text/plain": "                         id  duration_ms  popularity  track_number  explicit  \\\n0    6xGruZOHLs39ZbVccQTuPZ       233456          91             1     False   \n1    0VjIjW4GlUZAMYd2vXMi3b       200040          90             9     False   \n2    1qEmFfgcLObUfQm0j1W2CK       177954          90             2     False   \n3    3LtpKP5abr2qqjunvjlX5i        97392          89             1      True   \n4    0O6u0VJ46W86TxN9wgyqDj       192840          89             5      True   \n..                      ...          ...         ...           ...       ...   \n139  58zjCKUMrDORBg9bmSOXKg       249040          35             4     False   \n140  4kuYISPouD11LYYVjruC8b       162077          35             1     False   \n141  26Tog7ysmQSnEnp64mme2H       186781          35             1      True   \n142  61zsaqw409s6ffuooiOjzN       288699          31             1     False   \n143  3Qe0o9SU2PhYkXE0tjs5Oh       209210          29             9     False   \n\n                                            name  \\\n0                                  Glimpse of Us   \n1                                Blinding Lights   \n2                             Late Night Talking   \n3                                           Doja   \n4    I Like You (A Happier Song) (with Doja Cat)   \n..                                           ...   \n139                                คำตอบของหัวใจ   \n140                                 Today's mood   \n141                    เลือดพ่อแรง - With คุณพ่อ   \n142                              รักเธอข้างเดียว   \n143                                Jacob's Blues   \n\n                                                   url  Rating (1-10)  \n0    https://open.spotify.com/track/6xGruZOHLs39ZbV...            9.5  \n1    https://open.spotify.com/track/0VjIjW4GlUZAMYd...            8.5  \n2    https://open.spotify.com/track/1qEmFfgcLObUfQm...            8.0  \n3    https://open.spotify.com/track/3LtpKP5abr2qqju...            7.5  \n4    https://open.spotify.com/track/0O6u0VJ46W86TxN...            9.0  \n..                                                 ...            ...  \n139  https://open.spotify.com/track/58zjCKUMrDORBg9...            8.0  \n140  https://open.spotify.com/track/4kuYISPouD11LYY...            7.0  \n141  https://open.spotify.com/track/26Tog7ysmQSnEnp...            7.0  \n142  https://open.spotify.com/track/61zsaqw409s6ffu...            9.0  \n143  https://open.spotify.com/track/3Qe0o9SU2PhYkXE...            8.5  \n\n[144 rows x 8 columns]",
      "text/html": "<div>\n<style scoped>\n    .dataframe tbody tr th:only-of-type {\n        vertical-align: middle;\n    }\n\n    .dataframe tbody tr th {\n        vertical-align: top;\n    }\n\n    .dataframe thead th {\n        text-align: right;\n    }\n</style>\n<table border=\"1\" class=\"dataframe\">\n  <thead>\n    <tr style=\"text-align: right;\">\n      <th></th>\n      <th>id</th>\n      <th>duration_ms</th>\n      <th>popularity</th>\n      <th>track_number</th>\n      <th>explicit</th>\n      <th>name</th>\n      <th>url</th>\n      <th>Rating (1-10)</th>\n    </tr>\n  </thead>\n  <tbody>\n    <tr>\n      <th>0</th>\n      <td>6xGruZOHLs39ZbVccQTuPZ</td>\n      <td>233456</td>\n      <td>91</td>\n      <td>1</td>\n      <td>False</td>\n      <td>Glimpse of Us</td>\n      <td>https://open.spotify.com/track/6xGruZOHLs39ZbV...</td>\n      <td>9.5</td>\n    </tr>\n    <tr>\n      <th>1</th>\n      <td>0VjIjW4GlUZAMYd2vXMi3b</td>\n      <td>200040</td>\n      <td>90</td>\n      <td>9</td>\n      <td>False</td>\n      <td>Blinding Lights</td>\n      <td>https://open.spotify.com/track/0VjIjW4GlUZAMYd...</td>\n      <td>8.5</td>\n    </tr>\n    <tr>\n      <th>2</th>\n      <td>1qEmFfgcLObUfQm0j1W2CK</td>\n      <td>177954</td>\n      <td>90</td>\n      <td>2</td>\n      <td>False</td>\n      <td>Late Night Talking</td>\n      <td>https://open.spotify.com/track/1qEmFfgcLObUfQm...</td>\n      <td>8.0</td>\n    </tr>\n    <tr>\n      <th>3</th>\n      <td>3LtpKP5abr2qqjunvjlX5i</td>\n      <td>97392</td>\n      <td>89</td>\n      <td>1</td>\n      <td>True</td>\n      <td>Doja</td>\n      <td>https://open.spotify.com/track/3LtpKP5abr2qqju...</td>\n      <td>7.5</td>\n    </tr>\n    <tr>\n      <th>4</th>\n      <td>0O6u0VJ46W86TxN9wgyqDj</td>\n      <td>192840</td>\n      <td>89</td>\n      <td>5</td>\n      <td>True</td>\n      <td>I Like You (A Happier Song) (with Doja Cat)</td>\n      <td>https://open.spotify.com/track/0O6u0VJ46W86TxN...</td>\n      <td>9.0</td>\n    </tr>\n    <tr>\n      <th>...</th>\n      <td>...</td>\n      <td>...</td>\n      <td>...</td>\n      <td>...</td>\n      <td>...</td>\n      <td>...</td>\n      <td>...</td>\n      <td>...</td>\n    </tr>\n    <tr>\n      <th>139</th>\n      <td>58zjCKUMrDORBg9bmSOXKg</td>\n      <td>249040</td>\n      <td>35</td>\n      <td>4</td>\n      <td>False</td>\n      <td>คำตอบของหัวใจ</td>\n      <td>https://open.spotify.com/track/58zjCKUMrDORBg9...</td>\n      <td>8.0</td>\n    </tr>\n    <tr>\n      <th>140</th>\n      <td>4kuYISPouD11LYYVjruC8b</td>\n      <td>162077</td>\n      <td>35</td>\n      <td>1</td>\n      <td>False</td>\n      <td>Today's mood</td>\n      <td>https://open.spotify.com/track/4kuYISPouD11LYY...</td>\n      <td>7.0</td>\n    </tr>\n    <tr>\n      <th>141</th>\n      <td>26Tog7ysmQSnEnp64mme2H</td>\n      <td>186781</td>\n      <td>35</td>\n      <td>1</td>\n      <td>True</td>\n      <td>เลือดพ่อแรง - With คุณพ่อ</td>\n      <td>https://open.spotify.com/track/26Tog7ysmQSnEnp...</td>\n      <td>7.0</td>\n    </tr>\n    <tr>\n      <th>142</th>\n      <td>61zsaqw409s6ffuooiOjzN</td>\n      <td>288699</td>\n      <td>31</td>\n      <td>1</td>\n      <td>False</td>\n      <td>รักเธอข้างเดียว</td>\n      <td>https://open.spotify.com/track/61zsaqw409s6ffu...</td>\n      <td>9.0</td>\n    </tr>\n    <tr>\n      <th>143</th>\n      <td>3Qe0o9SU2PhYkXE0tjs5Oh</td>\n      <td>209210</td>\n      <td>29</td>\n      <td>9</td>\n      <td>False</td>\n      <td>Jacob's Blues</td>\n      <td>https://open.spotify.com/track/3Qe0o9SU2PhYkXE...</td>\n      <td>8.5</td>\n    </tr>\n  </tbody>\n</table>\n<p>144 rows × 8 columns</p>\n</div>"
     },
     "execution_count": 28,
     "metadata": {},
     "output_type": "execute_result"
    }
   ],
   "source": [
    "rating_metadata"
   ],
   "metadata": {
    "collapsed": false
   }
  },
  {
   "cell_type": "code",
   "execution_count": 29,
   "outputs": [],
   "source": [
    "wip_rating = track_metadata[[\"track_id\", \"url\"]].merge(rating_metadata, left_on=\"track_id\", right_on=\"id\", how=\"left\")"
   ],
   "metadata": {
    "collapsed": false
   }
  },
  {
   "cell_type": "code",
   "execution_count": 30,
   "outputs": [],
   "source": [
    "wip_rating.to_csv(\"data/wip_rating.csv\", index=False, mode=\"w\",\n",
    "                           header=not os.path.exists(\"data/wip_rating.csv\"))"
   ],
   "metadata": {
    "collapsed": false
   }
  },
  {
   "cell_type": "code",
   "execution_count": 30,
   "outputs": [],
   "source": [],
   "metadata": {
    "collapsed": false
   }
  }
 ],
 "metadata": {
  "kernelspec": {
   "display_name": "Python 3",
   "language": "python",
   "name": "python3"
  },
  "language_info": {
   "codemirror_mode": {
    "name": "ipython",
    "version": 2
   },
   "file_extension": ".py",
   "mimetype": "text/x-python",
   "name": "python",
   "nbconvert_exporter": "python",
   "pygments_lexer": "ipython2",
   "version": "2.7.6"
  }
 },
 "nbformat": 4,
 "nbformat_minor": 0
}
